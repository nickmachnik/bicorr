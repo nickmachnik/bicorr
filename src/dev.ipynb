{
 "cells": [
  {
   "cell_type": "code",
   "execution_count": 22,
   "metadata": {},
   "outputs": [],
   "source": [
    "from bicorr import bicorr\n",
    "import numpy as np\n",
    "from matplotlib import pyplot as plt\n",
    "from scipy.stats import norm\n",
    "\n",
    "rng = np.random.default_rng()"
   ]
  },
  {
   "cell_type": "code",
   "execution_count": 177,
   "metadata": {},
   "outputs": [],
   "source": [
    "n = 200000\n",
    "maf = 0.01\n",
    "h2 = 0.01\n",
    "prevalence = 0.01\n",
    "\n",
    "x = rng.binomial(2, maf, size=n)\n",
    "x_norm = (x - x.mean()) / x.std()\n",
    "y_cont = h2 * x_norm + rng.normal(0, 1 - (h2 ** 2), size=n)\n",
    "y_bin = np.zeros_like(y_cont)\n",
    "y_bin[y_cont >= norm.ppf(1 - prevalence)] = 1"
   ]
  },
  {
   "cell_type": "code",
   "execution_count": 178,
   "metadata": {},
   "outputs": [
    {
     "data": {
      "text/plain": [
       "((0.023241876764867577, 0.02253428181315181), 0.006211519064400221)"
      ]
     },
     "execution_count": 178,
     "metadata": {},
     "output_type": "execute_result"
    }
   ],
   "source": [
    "bicorr.biserial_correlation(x, y_bin), np.corrcoef(x_norm, y_bin)[0, 1]"
   ]
  },
  {
   "cell_type": "code",
   "execution_count": 180,
   "metadata": {},
   "outputs": [
    {
     "data": {
      "text/plain": [
       "array([ True, False, False,  True])"
      ]
     },
     "execution_count": 180,
     "metadata": {},
     "output_type": "execute_result"
    }
   ],
   "source": [
    "arr = np.array([0, 1, np.nan, 5])\n",
    "brr = np.array([0, np.nan, 0, 5])\n",
    "~np.isnan(arr) & ~np.isnan(brr)"
   ]
  },
  {
   "cell_type": "code",
   "execution_count": null,
   "metadata": {},
   "outputs": [],
   "source": []
  }
 ],
 "metadata": {
  "kernelspec": {
   "display_name": "3.12.2",
   "language": "python",
   "name": "python3"
  },
  "language_info": {
   "codemirror_mode": {
    "name": "ipython",
    "version": 3
   },
   "file_extension": ".py",
   "mimetype": "text/x-python",
   "name": "python",
   "nbconvert_exporter": "python",
   "pygments_lexer": "ipython3",
   "version": "3.12.2"
  }
 },
 "nbformat": 4,
 "nbformat_minor": 2
}
